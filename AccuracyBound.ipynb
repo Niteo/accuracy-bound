{
 "cells": [
  {
   "cell_type": "code",
   "execution_count": 1,
   "metadata": {
    "collapsed": false,
    "deletable": true,
    "editable": true
   },
   "outputs": [],
   "source": [
    "from ipywidgets import widgets, interact, interactive, fixed, interact_manual\n",
    "from IPython.display import display\n",
    "\n",
    "import warnings\n",
    "\n",
    "import seaborn\n",
    "import pandas as pd\n",
    "import numpy as np\n",
    "import matplotlib.pyplot as plt\n",
    "%matplotlib inline\n",
    "\n",
    "warnings.filterwarnings('ignore')"
   ]
  },
  {
   "cell_type": "code",
   "execution_count": 2,
   "metadata": {
    "collapsed": false,
    "deletable": true,
    "editable": true
   },
   "outputs": [],
   "source": [
    "precision = 3\n",
    "values = [i*10**-precision for i in range(1,1001)]\n",
    "e_max = 1.\n",
    "e_values = [i*10**-precision for i in range(1,1000*int(e_max)+1)]\n",
    "lambd = 0.0013581\n",
    "\n",
    "\n",
    "# GUI components\n",
    "n_slider = widgets.IntSlider(value=1000000, min=100, max=10000000, step=100, description='n')\n",
    "a_slider = widgets.SelectionSlider(options=[(\"%g\"%i,i) for i in values], value=0.010, description='alpha')\n",
    "b_slider = widgets.SelectionSlider(options=[(\"%g\"%i,i) for i in values], value=0.050, description='beta')\n",
    "e_slider = widgets.SelectionSlider(options=[(\"%g\"%i,i) for i in e_values], value=0.270, description='epsilon')\n",
    "selection = widgets.RadioButtons(options=['n', 'alpha', 'beta', 'epsilon'],value='epsilon',description='Calculate:', disabled=False)\n",
    "\n",
    "# Layout\n",
    "slider_box = widgets.VBox([n_slider, a_slider, b_slider, e_slider])\n",
    "box = widgets.HBox([slider_box, selection])"
   ]
  },
  {
   "cell_type": "markdown",
   "metadata": {
    "deletable": true,
    "editable": true
   },
   "source": [
    "# FUNCTIONS"
   ]
  },
  {
   "cell_type": "code",
   "execution_count": 3,
   "metadata": {
    "collapsed": false,
    "deletable": true,
    "editable": true
   },
   "outputs": [],
   "source": [
    "def calculateBeta(n, lambd):\n",
    "    beta = 2*np.exp(-2*np.power(lambd,2)*n)\n",
    "    return beta"
   ]
  },
  {
   "cell_type": "code",
   "execution_count": 4,
   "metadata": {
    "collapsed": false,
    "deletable": true,
    "editable": true
   },
   "outputs": [
    {
     "data": {
      "text/latex": [
       "\\begin{align}\n",
       " \\beta={2e}^{-2{\\lambda^2}n}\n",
       "\\end{align}"
      ],
      "text/plain": [
       "<IPython.core.display.Latex object>"
      ]
     },
     "metadata": {},
     "output_type": "display_data"
    }
   ],
   "source": [
    "%%latex\n",
    "\\begin{align}\n",
    " \\beta={2e}^{-2{\\lambda^2}n}\n",
    "\\end{align}"
   ]
  },
  {
   "cell_type": "code",
   "execution_count": 5,
   "metadata": {
    "collapsed": true,
    "deletable": true,
    "editable": true
   },
   "outputs": [],
   "source": [
    "def calculateLambdaFromNBeta(n, beta):\n",
    "    lambd = np.sqrt(np.log(2/beta)/(2*n))\n",
    "    return lambd\n",
    "\n",
    "def calculateLambdaFromAlphaEpsilon(alpha, epsilon):\n",
    "    lambd = alpha/(1+(np.exp(epsilon)))/(np.exp(epsilon)-1)\n",
    "    return lambd"
   ]
  },
  {
   "cell_type": "code",
   "execution_count": 6,
   "metadata": {
    "collapsed": false,
    "deletable": true,
    "editable": true
   },
   "outputs": [
    {
     "data": {
      "text/latex": [
       "\\begin{align}\n",
       "\\lambda = \\sqrt{\\frac{\\log{\\frac{2}{\\beta}}}{2n}}\n",
       "\\end{align}"
      ],
      "text/plain": [
       "<IPython.core.display.Latex object>"
      ]
     },
     "metadata": {},
     "output_type": "display_data"
    }
   ],
   "source": [
    "%%latex\n",
    "\\begin{align}\n",
    "\\lambda = \\sqrt{\\frac{\\log{\\frac{2}{\\beta}}}{2n}}\n",
    "\\end{align}"
   ]
  },
  {
   "cell_type": "code",
   "execution_count": 7,
   "metadata": {
    "collapsed": false,
    "deletable": true,
    "editable": true
   },
   "outputs": [],
   "source": [
    "def calculateAlpha(n, beta, epsilon):\n",
    "    lambd = calculateLambdaFromNBeta(n, beta)\n",
    "    alpha = (1+(np.exp(epsilon)))/(np.exp(epsilon)-1)*lambd\n",
    "    return alpha"
   ]
  },
  {
   "cell_type": "code",
   "execution_count": 8,
   "metadata": {
    "collapsed": false,
    "deletable": true,
    "editable": true
   },
   "outputs": [
    {
     "data": {
      "text/latex": [
       "\\begin{align}\n",
       "\\alpha = \\frac{1+e^\\epsilon}{e^\\epsilon-1} \\lambda =  \\frac{1+e^\\epsilon}{e^\\epsilon-1} \\sqrt{\\frac{\\log{\\frac{2}{\\beta}}}{2n}}\n",
       "\\end{align}"
      ],
      "text/plain": [
       "<IPython.core.display.Latex object>"
      ]
     },
     "metadata": {},
     "output_type": "display_data"
    }
   ],
   "source": [
    "%%latex\n",
    "\\begin{align}\n",
    "\\alpha = \\frac{1+e^\\epsilon}{e^\\epsilon-1} \\lambda =  \\frac{1+e^\\epsilon}{e^\\epsilon-1} \\sqrt{\\frac{\\log{\\frac{2}{\\beta}}}{2n}}\n",
    "\\end{align}"
   ]
  },
  {
   "cell_type": "code",
   "execution_count": 9,
   "metadata": {
    "collapsed": false,
    "deletable": true,
    "editable": true
   },
   "outputs": [],
   "source": [
    "def calculateEpsilon(n, alpha, beta):\n",
    "    lambd = calculateLambdaFromNBeta(n, beta)\n",
    "    epsilon = ((-alpha/lambd)-1)/(1-(alpha/lambd))\n",
    "    return epsilon"
   ]
  },
  {
   "cell_type": "code",
   "execution_count": 10,
   "metadata": {
    "collapsed": false,
    "deletable": true,
    "editable": true
   },
   "outputs": [
    {
     "data": {
      "text/latex": [
       "\\begin{align}\n",
       "\\epsilon = \\frac{\\frac{-\\alpha}{\\lambda}-1}{1-\\frac{\\alpha}{\\lambda}}\n",
       "\\end{align}"
      ],
      "text/plain": [
       "<IPython.core.display.Latex object>"
      ]
     },
     "metadata": {},
     "output_type": "display_data"
    }
   ],
   "source": [
    "%%latex\n",
    "\\begin{align}\n",
    "\\epsilon = \\frac{\\frac{-\\alpha}{\\lambda}-1}{1-\\frac{\\alpha}{\\lambda}}\n",
    "\\end{align}"
   ]
  },
  {
   "cell_type": "code",
   "execution_count": 11,
   "metadata": {
    "collapsed": false,
    "deletable": true,
    "editable": true
   },
   "outputs": [],
   "source": [
    "def updateAlpha(n, beta, epsilon):\n",
    "    a = calculateAlpha(n, beta, epsilon)\n",
    "    a = np.round(a, precision)\n",
    "    \n",
    "    if(a < 0):\n",
    "        print \"Warning, a < 0\"\n",
    "        \n",
    "    if(a > 1):\n",
    "        print \"Warning, a > 1\"\n",
    "        a = 1.\n",
    "    \n",
    "    return a\n",
    "    \n",
    "def updateBeta(n, alpha, epsilon):\n",
    "    b = calculateBeta(n, lambd)\n",
    "    b = np.round(b, precision)\n",
    "    \n",
    "    if(np.round(b, precision) <= 0):\n",
    "        print \"Warning, b < 0\"\n",
    "        b = 10**-precision\n",
    "    if(b > 1):\n",
    "        print \"Warning, b > 1\"\n",
    "        b = 1.\n",
    "    \n",
    "    return b\n",
    "     \n",
    "def updateEpsilon(n, alpha, beta):\n",
    "    e = calculateEpsilon(n, alpha, beta)\n",
    "    e = np.round(e, precision)\n",
    "    \n",
    "    if(e < 0):\n",
    "        print \"Warning, e < 0\"\n",
    "        e = 10**-precision\n",
    "    if(e > e_max):\n",
    "        print \"Warning, e > max\"\n",
    "        e = e_max\n",
    "    \n",
    "    return e\n",
    "\n",
    "def update(n, alpha, beta, epsilon):\n",
    "    print \"Entering update...\"\n",
    "    print beta, alpha, epsilon\n",
    "    \n",
    "    locked = selection.get_interact_value()\n",
    "    \n",
    "\n",
    "    result = {\n",
    "    'n': lambda n, alpha, beta, epsilon: n,\n",
    "    'alpha': lambda n, alpha, beta, epsilon: updateAlpha(n, beta, epsilon),\n",
    "    'beta': lambda n, alpha, beta, epsilon: updateBeta(n, alpha, epsilon),\n",
    "    'epsilon': lambda n, alpha, beta, epsilon: updateEpsilon(n, alpha, beta) }\n",
    "    \n",
    "    sliders = {\n",
    "        'n': n_slider,\n",
    "        'alpha': a_slider,\n",
    "        'beta': b_slider,\n",
    "        'epsilon': e_slider\n",
    "    }\n",
    "    \n",
    "    print result[locked](n, alpha, beta, epsilon)\n",
    "    sliders[locked].value = np.round(result[locked](n, alpha, beta, epsilon), precision)\n"
   ]
  },
  {
   "cell_type": "code",
   "execution_count": 12,
   "metadata": {
    "collapsed": false,
    "deletable": true,
    "editable": true
   },
   "outputs": [
    {
     "data": {
      "application/vnd.jupyter.widget-view+json": {
       "model_id": "b9ba6f43dec34178a68bf5203184be38",
       "version_major": 2,
       "version_minor": 0
      },
      "text/plain": [
       "interactive(children=(IntSlider(value=1000000, description=u'n', max=10000000, min=100, step=100), SelectionSl…"
      ]
     },
     "metadata": {},
     "output_type": "display_data"
    },
    {
     "data": {
      "application/vnd.jupyter.widget-view+json": {
       "model_id": "b1439fd5dc134b92bc486f09cbd27457",
       "version_major": 2,
       "version_minor": 0
      },
      "text/plain": [
       "RadioButtons(description=u'Calculate:', index=3, options=('n', 'alpha', 'beta', 'epsilon'), value='epsilon')"
      ]
     },
     "metadata": {},
     "output_type": "display_data"
    }
   ],
   "source": [
    "interact(update, n=n_slider, alpha=a_slider, beta=b_slider, epsilon=e_slider, continuous_update=False)\n",
    "selection"
   ]
  },
  {
   "cell_type": "markdown",
   "metadata": {
    "deletable": true,
    "editable": true
   },
   "source": [
    "# START HERE"
   ]
  },
  {
   "cell_type": "code",
   "execution_count": 13,
   "metadata": {
    "collapsed": false,
    "deletable": true,
    "editable": true
   },
   "outputs": [
    {
     "data": {
      "application/vnd.jupyter.widget-view+json": {
       "model_id": "df56657ee7484d0daa0e70d32ed964ff",
       "version_major": 2,
       "version_minor": 0
      },
      "text/plain": [
       "HBox(children=(VBox(children=(IntSlider(value=1000000, description=u'n', max=10000000, min=100, step=100), Sel…"
      ]
     },
     "metadata": {},
     "output_type": "display_data"
    }
   ],
   "source": [
    "display(box)"
   ]
  }
 ],
 "metadata": {
  "kernelspec": {
   "display_name": "Python 2",
   "language": "python",
   "name": "python2"
  },
  "language_info": {
   "codemirror_mode": {
    "name": "ipython",
    "version": 2
   },
   "file_extension": ".py",
   "mimetype": "text/x-python",
   "name": "python",
   "nbconvert_exporter": "python",
   "pygments_lexer": "ipython2",
   "version": "2.7.13"
  }
 },
 "nbformat": 4,
 "nbformat_minor": 0
}
