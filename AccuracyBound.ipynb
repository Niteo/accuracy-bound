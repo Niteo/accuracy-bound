{
 "cells": [
  {
   "cell_type": "code",
   "execution_count": 1,
   "metadata": {
    "collapsed": false,
    "deletable": true,
    "editable": true
   },
   "outputs": [],
   "source": [
    "from ipywidgets import widgets, interact, interactive, fixed, interact_manual\n",
    "from IPython.display import display\n",
    "\n",
    "import warnings\n",
    "\n",
    "import seaborn\n",
    "import pandas as pd\n",
    "import numpy as np\n",
    "import matplotlib.pyplot as plt\n",
    "%matplotlib inline\n",
    "\n",
    "warnings.filterwarnings('ignore')"
   ]
  },
  {
   "cell_type": "code",
   "execution_count": 2,
   "metadata": {
    "collapsed": false,
    "deletable": true,
    "editable": true
   },
   "outputs": [],
   "source": [
    "precision = 3\n",
    "e_max = 50.\n",
    "lambd = 0.0013581\n",
    "_n = 1000000\n",
    "_a = 0.10\n",
    "_b = 0.050\n",
    "_e = 0.270\n",
    "\n",
    "\n",
    "# GUI components\n",
    "n_slider = widgets.IntSlider(value=_n, min=100, max=10000000, step=100, description='n')\n",
    "\n",
    "a_slider = widgets.FloatSlider(\n",
    "    value=_a,\n",
    "    min=1*10**-precision,\n",
    "    max=1.0,\n",
    "    step=0.001,\n",
    "    description='alpha',\n",
    "    disabled=False,\n",
    "    continuous_update=False,\n",
    "    orientation='horizontal',\n",
    "    readout=True,\n",
    "    readout_format='.'+str(precision)+'f',\n",
    ")\n",
    "\n",
    "b_slider = widgets.FloatSlider(\n",
    "    value=_b,\n",
    "    min=1*10**-precision,\n",
    "    max=1.0,\n",
    "    step=0.001,\n",
    "    description='beta',\n",
    "    disabled=False,\n",
    "    continuous_update=False,\n",
    "    orientation='horizontal',\n",
    "    readout=True,\n",
    "    readout_format='.'+str(precision)+'f',\n",
    ")\n",
    "\n",
    "e_slider = widgets.FloatSlider(\n",
    "    value=_e,\n",
    "    min=1*10**-precision,\n",
    "    max=e_max,\n",
    "    step=0.001,\n",
    "    description='epsilon',\n",
    "    disabled=False,\n",
    "    continuous_update=False,\n",
    "    orientation='horizontal',\n",
    "    readout=True,\n",
    "    readout_format='.'+str(precision)+'f',\n",
    ")\n",
    "\n",
    "\n",
    "# Layout\n",
    "slider_box = widgets.VBox([n_slider, a_slider, b_slider, e_slider])\n",
    "n_slider.layout.width='auto'\n",
    "a_slider.layout.width='auto'\n",
    "b_slider.layout.width='auto'\n",
    "e_slider.layout.width='auto'"
   ]
  },
  {
   "cell_type": "markdown",
   "metadata": {
    "deletable": true,
    "editable": true
   },
   "source": [
    "# FUNCTIONS"
   ]
  },
  {
   "cell_type": "code",
   "execution_count": 3,
   "metadata": {
    "collapsed": false,
    "deletable": true,
    "editable": true
   },
   "outputs": [],
   "source": [
    "def calculateBeta(n, alpha, epsilon):\n",
    "    c = (1.+np.exp(epsilon))/(np.exp(epsilon)-1.)\n",
    "    beta = 2.*np.exp(-2*np.power(alpha/c,2)*float(n))\n",
    "    return beta"
   ]
  },
  {
   "cell_type": "code",
   "execution_count": 4,
   "metadata": {
    "collapsed": false,
    "deletable": true,
    "editable": true
   },
   "outputs": [
    {
     "data": {
      "text/latex": [
       "\\begin{align}\n",
       " \\beta={2e}^{-2{\\lambda^2}n} = {2e}^{-2(\\frac{\\alpha}{\\frac{1+e^\\epsilon}{e^\\epsilon-1}})^2 n} = {2e}^{-2(\\frac{\\alpha*e^\\epsilon-1}{1+e^\\epsilon})^2 n}\n",
       "\\end{align}"
      ],
      "text/plain": [
       "<IPython.core.display.Latex object>"
      ]
     },
     "metadata": {},
     "output_type": "display_data"
    }
   ],
   "source": [
    "%%latex\n",
    "\\begin{align}\n",
    " \\beta={2e}^{-2{\\lambda^2}n} = {2e}^{-2(\\frac{\\alpha}{\\frac{1+e^\\epsilon}{e^\\epsilon-1}})^2 n} = {2e}^{-2(\\frac{\\alpha*e^\\epsilon-1}{1+e^\\epsilon})^2 n}\n",
    "\\end{align}"
   ]
  },
  {
   "cell_type": "code",
   "execution_count": 5,
   "metadata": {
    "collapsed": true,
    "deletable": true,
    "editable": true
   },
   "outputs": [],
   "source": [
    "def calculateLambdaFromNBeta(n, beta):\n",
    "    lambd = np.sqrt(np.log(2/beta)/(2*n))\n",
    "    return lambd\n",
    "\n",
    "def calculateLambdaFromAlphaEpsilon(alpha, epsilon):\n",
    "    lambd = alpha/(1+(np.exp(epsilon)))/(np.exp(epsilon)-1)\n",
    "    return lambd"
   ]
  },
  {
   "cell_type": "code",
   "execution_count": 6,
   "metadata": {
    "collapsed": false,
    "deletable": true,
    "editable": true
   },
   "outputs": [
    {
     "data": {
      "text/latex": [
       "\\begin{align}\n",
       "\\lambda = \\sqrt{\\frac{\\log{\\frac{2}{\\beta}}}{2n}}\n",
       "\\end{align}"
      ],
      "text/plain": [
       "<IPython.core.display.Latex object>"
      ]
     },
     "metadata": {},
     "output_type": "display_data"
    }
   ],
   "source": [
    "%%latex\n",
    "\\begin{align}\n",
    "\\lambda = \\sqrt{\\frac{\\log{\\frac{2}{\\beta}}}{2n}}\n",
    "\\end{align}"
   ]
  },
  {
   "cell_type": "code",
   "execution_count": 7,
   "metadata": {
    "collapsed": false,
    "deletable": true,
    "editable": true
   },
   "outputs": [],
   "source": [
    "def calculateAlpha(n, beta, epsilon):\n",
    "    lambd = calculateLambdaFromNBeta(n, beta)\n",
    "    alpha = (1+(np.exp(epsilon)))/(np.exp(epsilon)-1)*lambd\n",
    "    return alpha"
   ]
  },
  {
   "cell_type": "code",
   "execution_count": 8,
   "metadata": {
    "collapsed": false,
    "deletable": true,
    "editable": true
   },
   "outputs": [
    {
     "data": {
      "text/latex": [
       "\\begin{align}\n",
       "\\alpha = \\frac{1+e^\\epsilon}{e^\\epsilon-1} \\lambda =  \\frac{1+e^\\epsilon}{e^\\epsilon-1} \\sqrt{\\frac{\\log{\\frac{2}{\\beta}}}{2n}}\n",
       "\\end{align}"
      ],
      "text/plain": [
       "<IPython.core.display.Latex object>"
      ]
     },
     "metadata": {},
     "output_type": "display_data"
    }
   ],
   "source": [
    "%%latex\n",
    "\\begin{align}\n",
    "\\alpha = \\frac{1+e^\\epsilon}{e^\\epsilon-1} \\lambda =  \\frac{1+e^\\epsilon}{e^\\epsilon-1} \\sqrt{\\frac{\\log{\\frac{2}{\\beta}}}{2n}}\n",
    "\\end{align}"
   ]
  },
  {
   "cell_type": "code",
   "execution_count": 9,
   "metadata": {
    "collapsed": false,
    "deletable": true,
    "editable": true
   },
   "outputs": [],
   "source": [
    "def calculateEpsilon(n, alpha, beta):\n",
    "    lambd = calculateLambdaFromNBeta(n, beta)\n",
    "    epsilon = ((-alpha/lambd)-1)/(1-(alpha/lambd))\n",
    "    return epsilon"
   ]
  },
  {
   "cell_type": "code",
   "execution_count": 10,
   "metadata": {
    "collapsed": false,
    "deletable": true,
    "editable": true
   },
   "outputs": [
    {
     "data": {
      "text/latex": [
       "\\begin{align}\n",
       "\\epsilon = \\frac{\\frac{-\\alpha}{\\lambda}-1}{1-\\frac{\\alpha}{\\lambda}}\n",
       "\\end{align}"
      ],
      "text/plain": [
       "<IPython.core.display.Latex object>"
      ]
     },
     "metadata": {},
     "output_type": "display_data"
    }
   ],
   "source": [
    "%%latex\n",
    "\\begin{align}\n",
    "\\epsilon = \\frac{\\frac{-\\alpha}{\\lambda}-1}{1-\\frac{\\alpha}{\\lambda}}\n",
    "\\end{align}"
   ]
  },
  {
   "cell_type": "code",
   "execution_count": 11,
   "metadata": {
    "collapsed": true
   },
   "outputs": [],
   "source": [
    "def calculateN(alpha, beta, epsilon):\n",
    "    top = np.power(1.+np.exp(epsilon), 2) * np.log(2/beta)\n",
    "    bottom = 2*np.power(alpha, 2)*np.power((np.exp(epsilon)-1), 2)\n",
    "    return top/bottom"
   ]
  },
  {
   "cell_type": "code",
   "execution_count": 12,
   "metadata": {
    "collapsed": false
   },
   "outputs": [
    {
     "data": {
      "text/latex": [
       "\\begin{align}\n",
       "n = \\frac{(1 + e^\\epsilon)^2 \\log(2/\\beta)}{2\\alpha^2 (e^\\epsilon - 1)^2}\n",
       "\\end{align}"
      ],
      "text/plain": [
       "<IPython.core.display.Latex object>"
      ]
     },
     "metadata": {},
     "output_type": "display_data"
    }
   ],
   "source": [
    "%%latex\n",
    "\\begin{align}\n",
    "n = \\frac{(1 + e^\\epsilon)^2 \\log(2/\\beta)}{2\\alpha^2 (e^\\epsilon - 1)^2}\n",
    "\\end{align}"
   ]
  },
  {
   "cell_type": "code",
   "execution_count": 13,
   "metadata": {
    "collapsed": false,
    "deletable": true,
    "editable": true
   },
   "outputs": [],
   "source": [
    "def updateAlpha(n, beta, epsilon):\n",
    "    a = calculateAlpha(n, beta, epsilon)\n",
    "    a = np.round(a, precision)\n",
    "    \n",
    "    if(a < 0):\n",
    "        print \"Warning, a < 0\"\n",
    "        \n",
    "    if(a > 1):\n",
    "        print \"Warning, a > 1\"\n",
    "        a = 1.\n",
    "    \n",
    "    return a\n",
    "    \n",
    "def updateBeta(n, alpha, epsilon):\n",
    "    b = calculateBeta(n, alpha, epsilon)\n",
    "    b = np.round(b, precision)\n",
    "    \n",
    "    if(np.round(b, precision) <= 0):\n",
    "        print \"Warning, b < 0\"\n",
    "        b = 10**-precision\n",
    "    if(b > 1):\n",
    "        print \"Warning, b > 1\"\n",
    "        b = 1.\n",
    "    \n",
    "    return b\n",
    "     \n",
    "def updateEpsilon(n, alpha, beta):\n",
    "    e = calculateEpsilon(n, alpha, beta)\n",
    "    e = np.round(e, precision)\n",
    "    \n",
    "    if(e < 0):\n",
    "        print \"Warning, e < 0\"\n",
    "        e = 10**-precision\n",
    "    if(e > e_max):\n",
    "        print \"Warning, e > max\"\n",
    "        e = e_max\n",
    "    \n",
    "    return e\n",
    "\n",
    "def updateN(alpha, beta, epsilon):\n",
    "    n = calculateN(alpha, beta, epsilon)\n",
    "    n = int(np.round(n))\n",
    "    \n",
    "    return n\n",
    "\n",
    "def update(change): #(n, alpha, beta, epsilon):\n",
    "    \n",
    "    # Only update if the slider was used, not when we set the value\n",
    "    if(change['name'] != '_property_lock'):\n",
    "        return\n",
    "    \n",
    "    sliders = {\n",
    "        'n': n_slider,\n",
    "        'alpha': a_slider,\n",
    "        'beta': b_slider,\n",
    "        'epsilon': e_slider\n",
    "    }\n",
    "    \n",
    "    \n",
    "    # Find which slider triggered the event\n",
    "    changed = str(change['owner'].description)\n",
    "    \n",
    "    # Update the rest of the slider values\n",
    "    unchanged = set(sliders.keys())-set(changed)\n",
    "    \n",
    "     # Pause notifications to prevent infinite loop\n",
    "    for slider in unchanged:\n",
    "        sliders[slider].hold_trait_notifications()\n",
    "\n",
    "    equations = {\n",
    "    'n': lambda n, alpha, beta, epsilon: updateN(alpha, beta, epsilon),\n",
    "    'alpha': lambda n, alpha, beta, epsilon: updateAlpha(n, beta, epsilon),\n",
    "    'beta': lambda n, alpha, beta, epsilon: updateBeta(n, alpha, epsilon),\n",
    "    'epsilon': lambda n, alpha, beta, epsilon: updateEpsilon(n, alpha, beta) }\n",
    "    \n",
    "    for slider in unchanged:\n",
    "        result = equations[slider](sliders['n'].value, sliders['alpha'].value, sliders['beta'].value, sliders['epsilon'].value)\n",
    "        sliders[slider].value = result"
   ]
  },
  {
   "cell_type": "code",
   "execution_count": 14,
   "metadata": {
    "collapsed": false
   },
   "outputs": [],
   "source": [
    "n_slider.observe(update)\n",
    "a_slider.observe(update)\n",
    "b_slider.observe(update)\n",
    "e_slider.observe(update)"
   ]
  },
  {
   "cell_type": "markdown",
   "metadata": {
    "deletable": true,
    "editable": true
   },
   "source": [
    "# START HERE"
   ]
  },
  {
   "cell_type": "code",
   "execution_count": 15,
   "metadata": {
    "collapsed": false,
    "scrolled": false
   },
   "outputs": [
    {
     "data": {
      "application/vnd.jupyter.widget-view+json": {
       "model_id": "1ab5188e544b4f98af6e22d07828f437",
       "version_major": 2,
       "version_minor": 0
      },
      "text/plain": [
       "VBox(children=(IntSlider(value=1000000, description=u'n', layout=Layout(width=u'auto'), max=10000000, min=100,…"
      ]
     },
     "metadata": {},
     "output_type": "display_data"
    }
   ],
   "source": [
    "display(slider_box)"
   ]
  }
 ],
 "metadata": {
  "kernelspec": {
   "display_name": "Python 2",
   "language": "python",
   "name": "python2"
  },
  "language_info": {
   "codemirror_mode": {
    "name": "ipython",
    "version": 2
   },
   "file_extension": ".py",
   "mimetype": "text/x-python",
   "name": "python",
   "nbconvert_exporter": "python",
   "pygments_lexer": "ipython2",
   "version": "2.7.13"
  }
 },
 "nbformat": 4,
 "nbformat_minor": 0
}
